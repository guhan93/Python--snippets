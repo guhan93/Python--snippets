{
  "nbformat": 4,
  "nbformat_minor": 0,
  "metadata": {
    "colab": {
      "name": "sidetable.ipynb",
      "provenance": [],
      "collapsed_sections": []
    },
    "kernelspec": {
      "name": "python3",
      "display_name": "Python 3"
    }
  },
  "cells": [
    {
      "cell_type": "code",
      "metadata": {
        "id": "oDfFVU_NWM0j",
        "outputId": "e002a0df-ba41-44a1-bc75-fa4b4da29d64",
        "colab": {
          "base_uri": "https://localhost:8080/",
          "height": 70
        }
      },
      "source": [
        "import pandas as pd\n",
        "import seaborn as sns"
      ],
      "execution_count": null,
      "outputs": [
        {
          "output_type": "stream",
          "text": [
            "/usr/local/lib/python3.6/dist-packages/statsmodels/tools/_testing.py:19: FutureWarning: pandas.util.testing is deprecated. Use the functions in the public API at pandas.testing instead.\n",
            "  import pandas.util.testing as tm\n"
          ],
          "name": "stderr"
        }
      ]
    },
    {
      "cell_type": "code",
      "metadata": {
        "id": "1-AMKqfzWyth",
        "outputId": "83f36bc8-95cc-4e78-c8bb-e5efc5f9f227",
        "colab": {
          "base_uri": "https://localhost:8080/",
          "height": 168
        }
      },
      "source": [
        "! pip install sidetable\n"
      ],
      "execution_count": null,
      "outputs": [
        {
          "output_type": "stream",
          "text": [
            "Collecting sidetable\n",
            "  Downloading https://files.pythonhosted.org/packages/40/e5/38021cab1b17c3af86402e341119c1f09677a971fbc9e26334f497c3d871/sidetable-0.5.0-py3-none-any.whl\n",
            "Requirement already satisfied: pandas>=1.0 in /usr/local/lib/python3.6/dist-packages (from sidetable) (1.0.5)\n",
            "Requirement already satisfied: numpy>=1.13.3 in /usr/local/lib/python3.6/dist-packages (from pandas>=1.0->sidetable) (1.18.5)\n",
            "Requirement already satisfied: python-dateutil>=2.6.1 in /usr/local/lib/python3.6/dist-packages (from pandas>=1.0->sidetable) (2.8.1)\n",
            "Requirement already satisfied: pytz>=2017.2 in /usr/local/lib/python3.6/dist-packages (from pandas>=1.0->sidetable) (2018.9)\n",
            "Requirement already satisfied: six>=1.5 in /usr/local/lib/python3.6/dist-packages (from python-dateutil>=2.6.1->pandas>=1.0->sidetable) (1.12.0)\n",
            "Installing collected packages: sidetable\n",
            "Successfully installed sidetable-0.5.0\n"
          ],
          "name": "stdout"
        }
      ]
    },
    {
      "cell_type": "code",
      "metadata": {
        "id": "NK0sB15EW64D"
      },
      "source": [
        "titanic = sns.load_dataset('titanic')\n"
      ],
      "execution_count": null,
      "outputs": []
    },
    {
      "cell_type": "code",
      "metadata": {
        "id": "s315kLU1XPJl",
        "outputId": "5ab387b8-f2b7-4db7-bc26-01b3e5d7dadf",
        "colab": {
          "base_uri": "https://localhost:8080/",
          "height": 195
        }
      },
      "source": [
        "titanic.head()\n"
      ],
      "execution_count": null,
      "outputs": [
        {
          "output_type": "execute_result",
          "data": {
            "text/html": [
              "<div>\n",
              "<style scoped>\n",
              "    .dataframe tbody tr th:only-of-type {\n",
              "        vertical-align: middle;\n",
              "    }\n",
              "\n",
              "    .dataframe tbody tr th {\n",
              "        vertical-align: top;\n",
              "    }\n",
              "\n",
              "    .dataframe thead th {\n",
              "        text-align: right;\n",
              "    }\n",
              "</style>\n",
              "<table border=\"1\" class=\"dataframe\">\n",
              "  <thead>\n",
              "    <tr style=\"text-align: right;\">\n",
              "      <th></th>\n",
              "      <th>survived</th>\n",
              "      <th>pclass</th>\n",
              "      <th>sex</th>\n",
              "      <th>age</th>\n",
              "      <th>sibsp</th>\n",
              "      <th>parch</th>\n",
              "      <th>fare</th>\n",
              "      <th>embarked</th>\n",
              "      <th>class</th>\n",
              "      <th>who</th>\n",
              "      <th>adult_male</th>\n",
              "      <th>deck</th>\n",
              "      <th>embark_town</th>\n",
              "      <th>alive</th>\n",
              "      <th>alone</th>\n",
              "    </tr>\n",
              "  </thead>\n",
              "  <tbody>\n",
              "    <tr>\n",
              "      <th>0</th>\n",
              "      <td>0</td>\n",
              "      <td>3</td>\n",
              "      <td>male</td>\n",
              "      <td>22.0</td>\n",
              "      <td>1</td>\n",
              "      <td>0</td>\n",
              "      <td>7.2500</td>\n",
              "      <td>S</td>\n",
              "      <td>Third</td>\n",
              "      <td>man</td>\n",
              "      <td>True</td>\n",
              "      <td>NaN</td>\n",
              "      <td>Southampton</td>\n",
              "      <td>no</td>\n",
              "      <td>False</td>\n",
              "    </tr>\n",
              "    <tr>\n",
              "      <th>1</th>\n",
              "      <td>1</td>\n",
              "      <td>1</td>\n",
              "      <td>female</td>\n",
              "      <td>38.0</td>\n",
              "      <td>1</td>\n",
              "      <td>0</td>\n",
              "      <td>71.2833</td>\n",
              "      <td>C</td>\n",
              "      <td>First</td>\n",
              "      <td>woman</td>\n",
              "      <td>False</td>\n",
              "      <td>C</td>\n",
              "      <td>Cherbourg</td>\n",
              "      <td>yes</td>\n",
              "      <td>False</td>\n",
              "    </tr>\n",
              "    <tr>\n",
              "      <th>2</th>\n",
              "      <td>1</td>\n",
              "      <td>3</td>\n",
              "      <td>female</td>\n",
              "      <td>26.0</td>\n",
              "      <td>0</td>\n",
              "      <td>0</td>\n",
              "      <td>7.9250</td>\n",
              "      <td>S</td>\n",
              "      <td>Third</td>\n",
              "      <td>woman</td>\n",
              "      <td>False</td>\n",
              "      <td>NaN</td>\n",
              "      <td>Southampton</td>\n",
              "      <td>yes</td>\n",
              "      <td>True</td>\n",
              "    </tr>\n",
              "    <tr>\n",
              "      <th>3</th>\n",
              "      <td>1</td>\n",
              "      <td>1</td>\n",
              "      <td>female</td>\n",
              "      <td>35.0</td>\n",
              "      <td>1</td>\n",
              "      <td>0</td>\n",
              "      <td>53.1000</td>\n",
              "      <td>S</td>\n",
              "      <td>First</td>\n",
              "      <td>woman</td>\n",
              "      <td>False</td>\n",
              "      <td>C</td>\n",
              "      <td>Southampton</td>\n",
              "      <td>yes</td>\n",
              "      <td>False</td>\n",
              "    </tr>\n",
              "    <tr>\n",
              "      <th>4</th>\n",
              "      <td>0</td>\n",
              "      <td>3</td>\n",
              "      <td>male</td>\n",
              "      <td>35.0</td>\n",
              "      <td>0</td>\n",
              "      <td>0</td>\n",
              "      <td>8.0500</td>\n",
              "      <td>S</td>\n",
              "      <td>Third</td>\n",
              "      <td>man</td>\n",
              "      <td>True</td>\n",
              "      <td>NaN</td>\n",
              "      <td>Southampton</td>\n",
              "      <td>no</td>\n",
              "      <td>True</td>\n",
              "    </tr>\n",
              "  </tbody>\n",
              "</table>\n",
              "</div>"
            ],
            "text/plain": [
              "   survived  pclass     sex   age  ...  deck  embark_town  alive  alone\n",
              "0         0       3    male  22.0  ...   NaN  Southampton     no  False\n",
              "1         1       1  female  38.0  ...     C    Cherbourg    yes  False\n",
              "2         1       3  female  26.0  ...   NaN  Southampton    yes   True\n",
              "3         1       1  female  35.0  ...     C  Southampton    yes  False\n",
              "4         0       3    male  35.0  ...   NaN  Southampton     no   True\n",
              "\n",
              "[5 rows x 15 columns]"
            ]
          },
          "metadata": {
            "tags": []
          },
          "execution_count": 6
        }
      ]
    },
    {
      "cell_type": "code",
      "metadata": {
        "id": "kXmdb0tHXTG7",
        "outputId": "5018efb9-3ffa-4cda-9b5c-a40d827ec01e",
        "colab": {
          "base_uri": "https://localhost:8080/",
          "height": 67
        }
      },
      "source": [
        "titanic['survived'].value_counts()\n"
      ],
      "execution_count": null,
      "outputs": [
        {
          "output_type": "execute_result",
          "data": {
            "text/plain": [
              "0    549\n",
              "1    342\n",
              "Name: survived, dtype: int64"
            ]
          },
          "metadata": {
            "tags": []
          },
          "execution_count": 7
        }
      ]
    },
    {
      "cell_type": "code",
      "metadata": {
        "id": "TCpt3a07XWc4"
      },
      "source": [
        "import sidetable as stb\n"
      ],
      "execution_count": null,
      "outputs": []
    },
    {
      "cell_type": "code",
      "metadata": {
        "id": "bqEOJq10XcD8",
        "outputId": "daa7ab47-d915-4e9a-aa68-b24e710589d3",
        "colab": {
          "base_uri": "https://localhost:8080/",
          "height": 78
        }
      },
      "source": [
        "titanic.stb.freq(['sex'], style = True)\n"
      ],
      "execution_count": null,
      "outputs": [
        {
          "output_type": "execute_result",
          "data": {
            "text/html": [
              "<style  type=\"text/css\" >\n",
              "</style><table id=\"T_b254f916_bad3_11ea_ab9a_0242ac1c0002\" ><thead>    <tr>        <th class=\"blank level0\" ></th>        <th class=\"col_heading level0 col0\" >sex</th>        <th class=\"col_heading level0 col1\" >Count</th>        <th class=\"col_heading level0 col2\" >Percent</th>        <th class=\"col_heading level0 col3\" >Cumulative Count</th>        <th class=\"col_heading level0 col4\" >Cumulative Percent</th>    </tr></thead><tbody>\n",
              "                <tr>\n",
              "                        <th id=\"T_b254f916_bad3_11ea_ab9a_0242ac1c0002level0_row0\" class=\"row_heading level0 row0\" >0</th>\n",
              "                        <td id=\"T_b254f916_bad3_11ea_ab9a_0242ac1c0002row0_col0\" class=\"data row0 col0\" >male</td>\n",
              "                        <td id=\"T_b254f916_bad3_11ea_ab9a_0242ac1c0002row0_col1\" class=\"data row0 col1\" >577</td>\n",
              "                        <td id=\"T_b254f916_bad3_11ea_ab9a_0242ac1c0002row0_col2\" class=\"data row0 col2\" >64.76%</td>\n",
              "                        <td id=\"T_b254f916_bad3_11ea_ab9a_0242ac1c0002row0_col3\" class=\"data row0 col3\" >577</td>\n",
              "                        <td id=\"T_b254f916_bad3_11ea_ab9a_0242ac1c0002row0_col4\" class=\"data row0 col4\" >64.76%</td>\n",
              "            </tr>\n",
              "            <tr>\n",
              "                        <th id=\"T_b254f916_bad3_11ea_ab9a_0242ac1c0002level0_row1\" class=\"row_heading level0 row1\" >1</th>\n",
              "                        <td id=\"T_b254f916_bad3_11ea_ab9a_0242ac1c0002row1_col0\" class=\"data row1 col0\" >female</td>\n",
              "                        <td id=\"T_b254f916_bad3_11ea_ab9a_0242ac1c0002row1_col1\" class=\"data row1 col1\" >314</td>\n",
              "                        <td id=\"T_b254f916_bad3_11ea_ab9a_0242ac1c0002row1_col2\" class=\"data row1 col2\" >35.24%</td>\n",
              "                        <td id=\"T_b254f916_bad3_11ea_ab9a_0242ac1c0002row1_col3\" class=\"data row1 col3\" >891</td>\n",
              "                        <td id=\"T_b254f916_bad3_11ea_ab9a_0242ac1c0002row1_col4\" class=\"data row1 col4\" >100.00%</td>\n",
              "            </tr>\n",
              "    </tbody></table>"
            ],
            "text/plain": [
              "<pandas.io.formats.style.Styler at 0x7f884a6b3c50>"
            ]
          },
          "metadata": {
            "tags": []
          },
          "execution_count": 10
        }
      ]
    },
    {
      "cell_type": "code",
      "metadata": {
        "id": "Q-jTCIFTXfsf",
        "outputId": "b3c7cbf2-9dc0-4113-f8ed-c1b4015395a0",
        "colab": {
          "base_uri": "https://localhost:8080/",
          "height": 284
        }
      },
      "source": [
        "titanic.stb.freq(['sex','pclass','embarked'], thresh = 0.8)\n"
      ],
      "execution_count": null,
      "outputs": [
        {
          "output_type": "execute_result",
          "data": {
            "text/html": [
              "<div>\n",
              "<style scoped>\n",
              "    .dataframe tbody tr th:only-of-type {\n",
              "        vertical-align: middle;\n",
              "    }\n",
              "\n",
              "    .dataframe tbody tr th {\n",
              "        vertical-align: top;\n",
              "    }\n",
              "\n",
              "    .dataframe thead th {\n",
              "        text-align: right;\n",
              "    }\n",
              "</style>\n",
              "<table border=\"1\" class=\"dataframe\">\n",
              "  <thead>\n",
              "    <tr style=\"text-align: right;\">\n",
              "      <th></th>\n",
              "      <th>sex</th>\n",
              "      <th>pclass</th>\n",
              "      <th>embarked</th>\n",
              "      <th>Count</th>\n",
              "      <th>Percent</th>\n",
              "      <th>Cumulative Count</th>\n",
              "      <th>Cumulative Percent</th>\n",
              "    </tr>\n",
              "  </thead>\n",
              "  <tbody>\n",
              "    <tr>\n",
              "      <th>0</th>\n",
              "      <td>male</td>\n",
              "      <td>3</td>\n",
              "      <td>S</td>\n",
              "      <td>265</td>\n",
              "      <td>0.298088</td>\n",
              "      <td>265</td>\n",
              "      <td>0.298088</td>\n",
              "    </tr>\n",
              "    <tr>\n",
              "      <th>1</th>\n",
              "      <td>male</td>\n",
              "      <td>2</td>\n",
              "      <td>S</td>\n",
              "      <td>97</td>\n",
              "      <td>0.109111</td>\n",
              "      <td>362</td>\n",
              "      <td>0.407199</td>\n",
              "    </tr>\n",
              "    <tr>\n",
              "      <th>2</th>\n",
              "      <td>female</td>\n",
              "      <td>3</td>\n",
              "      <td>S</td>\n",
              "      <td>88</td>\n",
              "      <td>0.098988</td>\n",
              "      <td>450</td>\n",
              "      <td>0.506187</td>\n",
              "    </tr>\n",
              "    <tr>\n",
              "      <th>3</th>\n",
              "      <td>male</td>\n",
              "      <td>1</td>\n",
              "      <td>S</td>\n",
              "      <td>79</td>\n",
              "      <td>0.088864</td>\n",
              "      <td>529</td>\n",
              "      <td>0.595051</td>\n",
              "    </tr>\n",
              "    <tr>\n",
              "      <th>4</th>\n",
              "      <td>female</td>\n",
              "      <td>2</td>\n",
              "      <td>S</td>\n",
              "      <td>67</td>\n",
              "      <td>0.075366</td>\n",
              "      <td>596</td>\n",
              "      <td>0.670416</td>\n",
              "    </tr>\n",
              "    <tr>\n",
              "      <th>5</th>\n",
              "      <td>female</td>\n",
              "      <td>1</td>\n",
              "      <td>S</td>\n",
              "      <td>48</td>\n",
              "      <td>0.053993</td>\n",
              "      <td>644</td>\n",
              "      <td>0.724409</td>\n",
              "    </tr>\n",
              "    <tr>\n",
              "      <th>6</th>\n",
              "      <td>male</td>\n",
              "      <td>3</td>\n",
              "      <td>C</td>\n",
              "      <td>43</td>\n",
              "      <td>0.048369</td>\n",
              "      <td>687</td>\n",
              "      <td>0.772778</td>\n",
              "    </tr>\n",
              "    <tr>\n",
              "      <th>7</th>\n",
              "      <td>Others</td>\n",
              "      <td>Others</td>\n",
              "      <td>Others</td>\n",
              "      <td>202</td>\n",
              "      <td>0.227222</td>\n",
              "      <td>889</td>\n",
              "      <td>1.000000</td>\n",
              "    </tr>\n",
              "  </tbody>\n",
              "</table>\n",
              "</div>"
            ],
            "text/plain": [
              "      sex  pclass embarked  ...   Percent  Cumulative Count  Cumulative Percent\n",
              "0    male       3        S  ...  0.298088               265            0.298088\n",
              "1    male       2        S  ...  0.109111               362            0.407199\n",
              "2  female       3        S  ...  0.098988               450            0.506187\n",
              "3    male       1        S  ...  0.088864               529            0.595051\n",
              "4  female       2        S  ...  0.075366               596            0.670416\n",
              "5  female       1        S  ...  0.053993               644            0.724409\n",
              "6    male       3        C  ...  0.048369               687            0.772778\n",
              "7  Others  Others   Others  ...  0.227222               889            1.000000\n",
              "\n",
              "[8 rows x 7 columns]"
            ]
          },
          "metadata": {
            "tags": []
          },
          "execution_count": 11
        }
      ]
    },
    {
      "cell_type": "code",
      "metadata": {
        "id": "CNV0KIFVXjdn",
        "outputId": "fd0cad4c-105b-4d28-c9b7-363cd4e7cf12",
        "colab": {
          "base_uri": "https://localhost:8080/",
          "height": 136
        }
      },
      "source": [
        "titanic.stb.freq(['class'], value = 'fare')\n"
      ],
      "execution_count": null,
      "outputs": [
        {
          "output_type": "execute_result",
          "data": {
            "text/html": [
              "<div>\n",
              "<style scoped>\n",
              "    .dataframe tbody tr th:only-of-type {\n",
              "        vertical-align: middle;\n",
              "    }\n",
              "\n",
              "    .dataframe tbody tr th {\n",
              "        vertical-align: top;\n",
              "    }\n",
              "\n",
              "    .dataframe thead th {\n",
              "        text-align: right;\n",
              "    }\n",
              "</style>\n",
              "<table border=\"1\" class=\"dataframe\">\n",
              "  <thead>\n",
              "    <tr style=\"text-align: right;\">\n",
              "      <th></th>\n",
              "      <th>class</th>\n",
              "      <th>fare</th>\n",
              "      <th>Percent</th>\n",
              "      <th>Cumulative fare</th>\n",
              "      <th>Cumulative Percent</th>\n",
              "    </tr>\n",
              "  </thead>\n",
              "  <tbody>\n",
              "    <tr>\n",
              "      <th>0</th>\n",
              "      <td>First</td>\n",
              "      <td>18177.4125</td>\n",
              "      <td>0.633493</td>\n",
              "      <td>18177.4125</td>\n",
              "      <td>0.633493</td>\n",
              "    </tr>\n",
              "    <tr>\n",
              "      <th>1</th>\n",
              "      <td>Third</td>\n",
              "      <td>6714.6951</td>\n",
              "      <td>0.234011</td>\n",
              "      <td>24892.1076</td>\n",
              "      <td>0.867504</td>\n",
              "    </tr>\n",
              "    <tr>\n",
              "      <th>2</th>\n",
              "      <td>Second</td>\n",
              "      <td>3801.8417</td>\n",
              "      <td>0.132496</td>\n",
              "      <td>28693.9493</td>\n",
              "      <td>1.000000</td>\n",
              "    </tr>\n",
              "  </tbody>\n",
              "</table>\n",
              "</div>"
            ],
            "text/plain": [
              "    class        fare   Percent  Cumulative fare  Cumulative Percent\n",
              "0   First  18177.4125  0.633493       18177.4125            0.633493\n",
              "1   Third   6714.6951  0.234011       24892.1076            0.867504\n",
              "2  Second   3801.8417  0.132496       28693.9493            1.000000"
            ]
          },
          "metadata": {
            "tags": []
          },
          "execution_count": 12
        }
      ]
    },
    {
      "cell_type": "code",
      "metadata": {
        "id": "lvBxKzTKXl9l",
        "outputId": "d7794b25-d2ad-4469-d032-53f2cc054712",
        "colab": {
          "base_uri": "https://localhost:8080/",
          "height": 166
        }
      },
      "source": [
        "titanic.stb.freq(['embarked','pclass'], thresh= 0.8)\n"
      ],
      "execution_count": null,
      "outputs": [
        {
          "output_type": "execute_result",
          "data": {
            "text/html": [
              "<div>\n",
              "<style scoped>\n",
              "    .dataframe tbody tr th:only-of-type {\n",
              "        vertical-align: middle;\n",
              "    }\n",
              "\n",
              "    .dataframe tbody tr th {\n",
              "        vertical-align: top;\n",
              "    }\n",
              "\n",
              "    .dataframe thead th {\n",
              "        text-align: right;\n",
              "    }\n",
              "</style>\n",
              "<table border=\"1\" class=\"dataframe\">\n",
              "  <thead>\n",
              "    <tr style=\"text-align: right;\">\n",
              "      <th></th>\n",
              "      <th>embarked</th>\n",
              "      <th>pclass</th>\n",
              "      <th>Count</th>\n",
              "      <th>Percent</th>\n",
              "      <th>Cumulative Count</th>\n",
              "      <th>Cumulative Percent</th>\n",
              "    </tr>\n",
              "  </thead>\n",
              "  <tbody>\n",
              "    <tr>\n",
              "      <th>0</th>\n",
              "      <td>S</td>\n",
              "      <td>3</td>\n",
              "      <td>353</td>\n",
              "      <td>0.397075</td>\n",
              "      <td>353</td>\n",
              "      <td>0.397075</td>\n",
              "    </tr>\n",
              "    <tr>\n",
              "      <th>1</th>\n",
              "      <td>S</td>\n",
              "      <td>2</td>\n",
              "      <td>164</td>\n",
              "      <td>0.184477</td>\n",
              "      <td>517</td>\n",
              "      <td>0.581552</td>\n",
              "    </tr>\n",
              "    <tr>\n",
              "      <th>2</th>\n",
              "      <td>S</td>\n",
              "      <td>1</td>\n",
              "      <td>127</td>\n",
              "      <td>0.142857</td>\n",
              "      <td>644</td>\n",
              "      <td>0.724409</td>\n",
              "    </tr>\n",
              "    <tr>\n",
              "      <th>3</th>\n",
              "      <td>Others</td>\n",
              "      <td>Others</td>\n",
              "      <td>245</td>\n",
              "      <td>0.275591</td>\n",
              "      <td>889</td>\n",
              "      <td>1.000000</td>\n",
              "    </tr>\n",
              "  </tbody>\n",
              "</table>\n",
              "</div>"
            ],
            "text/plain": [
              "  embarked  pclass  Count   Percent  Cumulative Count  Cumulative Percent\n",
              "0        S       3    353  0.397075               353            0.397075\n",
              "1        S       2    164  0.184477               517            0.581552\n",
              "2        S       1    127  0.142857               644            0.724409\n",
              "3   Others  Others    245  0.275591               889            1.000000"
            ]
          },
          "metadata": {
            "tags": []
          },
          "execution_count": 13
        }
      ]
    },
    {
      "cell_type": "code",
      "metadata": {
        "id": "ym5qeOCRXu4Y",
        "outputId": "69cb45e8-4245-4760-cb60-42bcd5ac8b01",
        "colab": {
          "base_uri": "https://localhost:8080/",
          "height": 491
        }
      },
      "source": [
        "titanic.stb.missing()\n"
      ],
      "execution_count": null,
      "outputs": [
        {
          "output_type": "execute_result",
          "data": {
            "text/html": [
              "<div>\n",
              "<style scoped>\n",
              "    .dataframe tbody tr th:only-of-type {\n",
              "        vertical-align: middle;\n",
              "    }\n",
              "\n",
              "    .dataframe tbody tr th {\n",
              "        vertical-align: top;\n",
              "    }\n",
              "\n",
              "    .dataframe thead th {\n",
              "        text-align: right;\n",
              "    }\n",
              "</style>\n",
              "<table border=\"1\" class=\"dataframe\">\n",
              "  <thead>\n",
              "    <tr style=\"text-align: right;\">\n",
              "      <th></th>\n",
              "      <th>Missing</th>\n",
              "      <th>Total</th>\n",
              "      <th>Percent</th>\n",
              "    </tr>\n",
              "  </thead>\n",
              "  <tbody>\n",
              "    <tr>\n",
              "      <th>deck</th>\n",
              "      <td>688</td>\n",
              "      <td>891</td>\n",
              "      <td>0.772166</td>\n",
              "    </tr>\n",
              "    <tr>\n",
              "      <th>age</th>\n",
              "      <td>177</td>\n",
              "      <td>891</td>\n",
              "      <td>0.198653</td>\n",
              "    </tr>\n",
              "    <tr>\n",
              "      <th>embarked</th>\n",
              "      <td>2</td>\n",
              "      <td>891</td>\n",
              "      <td>0.002245</td>\n",
              "    </tr>\n",
              "    <tr>\n",
              "      <th>embark_town</th>\n",
              "      <td>2</td>\n",
              "      <td>891</td>\n",
              "      <td>0.002245</td>\n",
              "    </tr>\n",
              "    <tr>\n",
              "      <th>survived</th>\n",
              "      <td>0</td>\n",
              "      <td>891</td>\n",
              "      <td>0.000000</td>\n",
              "    </tr>\n",
              "    <tr>\n",
              "      <th>pclass</th>\n",
              "      <td>0</td>\n",
              "      <td>891</td>\n",
              "      <td>0.000000</td>\n",
              "    </tr>\n",
              "    <tr>\n",
              "      <th>sex</th>\n",
              "      <td>0</td>\n",
              "      <td>891</td>\n",
              "      <td>0.000000</td>\n",
              "    </tr>\n",
              "    <tr>\n",
              "      <th>sibsp</th>\n",
              "      <td>0</td>\n",
              "      <td>891</td>\n",
              "      <td>0.000000</td>\n",
              "    </tr>\n",
              "    <tr>\n",
              "      <th>parch</th>\n",
              "      <td>0</td>\n",
              "      <td>891</td>\n",
              "      <td>0.000000</td>\n",
              "    </tr>\n",
              "    <tr>\n",
              "      <th>fare</th>\n",
              "      <td>0</td>\n",
              "      <td>891</td>\n",
              "      <td>0.000000</td>\n",
              "    </tr>\n",
              "    <tr>\n",
              "      <th>class</th>\n",
              "      <td>0</td>\n",
              "      <td>891</td>\n",
              "      <td>0.000000</td>\n",
              "    </tr>\n",
              "    <tr>\n",
              "      <th>who</th>\n",
              "      <td>0</td>\n",
              "      <td>891</td>\n",
              "      <td>0.000000</td>\n",
              "    </tr>\n",
              "    <tr>\n",
              "      <th>adult_male</th>\n",
              "      <td>0</td>\n",
              "      <td>891</td>\n",
              "      <td>0.000000</td>\n",
              "    </tr>\n",
              "    <tr>\n",
              "      <th>alive</th>\n",
              "      <td>0</td>\n",
              "      <td>891</td>\n",
              "      <td>0.000000</td>\n",
              "    </tr>\n",
              "    <tr>\n",
              "      <th>alone</th>\n",
              "      <td>0</td>\n",
              "      <td>891</td>\n",
              "      <td>0.000000</td>\n",
              "    </tr>\n",
              "  </tbody>\n",
              "</table>\n",
              "</div>"
            ],
            "text/plain": [
              "             Missing  Total   Percent\n",
              "deck             688    891  0.772166\n",
              "age              177    891  0.198653\n",
              "embarked           2    891  0.002245\n",
              "embark_town        2    891  0.002245\n",
              "survived           0    891  0.000000\n",
              "pclass             0    891  0.000000\n",
              "sex                0    891  0.000000\n",
              "sibsp              0    891  0.000000\n",
              "parch              0    891  0.000000\n",
              "fare               0    891  0.000000\n",
              "class              0    891  0.000000\n",
              "who                0    891  0.000000\n",
              "adult_male         0    891  0.000000\n",
              "alive              0    891  0.000000\n",
              "alone              0    891  0.000000"
            ]
          },
          "metadata": {
            "tags": []
          },
          "execution_count": 14
        }
      ]
    },
    {
      "cell_type": "code",
      "metadata": {
        "id": "ykq1LiHRXxd8"
      },
      "source": [
        ""
      ],
      "execution_count": null,
      "outputs": []
    }
  ]
}